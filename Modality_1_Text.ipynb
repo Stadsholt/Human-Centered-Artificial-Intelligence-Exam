{
  "cells": [
    {
      "cell_type": "code",
      "execution_count": null,
      "metadata": {
        "colab": {
          "base_uri": "https://localhost:8080/",
          "height": 626
        },
        "id": "N4Du7oswf_ec",
        "outputId": "49362668-5e49-48b7-c1b3-467e4d8be67e"
      },
      "outputs": [
        {
          "name": "stderr",
          "output_type": "stream",
          "text": [
            "<ipython-input-4-d48e925f870d>:48: GradioUnusedKwargWarning: You have unused kwarg parameters in Radio, please remove them: {'default': 'No focus'}\n",
            "  gr.Radio([\"No focus\", \"CPU\", \"GPU\", \"Storage\" ], label=\"Comparison focus\",info=\"\", default=\"No focus\"),\n"
          ]
        },
        {
          "name": "stdout",
          "output_type": "stream",
          "text": [
            "Colab notebook detected. To show errors in colab notebook, set debug=True in launch()\n",
            "Running on public URL: https://00364bbea19bfb6039.gradio.live\n",
            "\n",
            "This share link expires in 72 hours. For free permanent hosting and GPU upgrades, run `gradio deploy` from Terminal to deploy to Spaces (https://huggingface.co/spaces)\n"
          ]
        },
        {
          "data": {
            "text/html": [
              "<div><iframe src=\"https://00364bbea19bfb6039.gradio.live\" width=\"100%\" height=\"500\" allow=\"autoplay; camera; microphone; clipboard-read; clipboard-write;\" frameborder=\"0\" allowfullscreen></iframe></div>"
            ],
            "text/plain": [
              "<IPython.core.display.HTML object>"
            ]
          },
          "metadata": {},
          "output_type": "display_data"
        },
        {
          "data": {
            "text/plain": []
          },
          "execution_count": 4,
          "metadata": {},
          "output_type": "execute_result"
        }
      ],
      "source": [
        "!pip install langchain --quiet\n",
        "!pip install openai --quiet\n",
        "!pip install gradio==3.50\n",
        "\n",
        "# Import langchain.\n",
        "from langchain.chat_models import ChatOpenAI\n",
        "from langchain.schema import HumanMessage, SystemMessage\n",
        "\n",
        "# Create llm.\n",
        "llm = ChatOpenAI(openai_api_key=\"API_KEY\",\n",
        "                 model=\"gpt-3.5-turbo-0613\")\n",
        "\n",
        "import gradio as gr\n",
        "\n",
        "def PCbot(pc_build1, pc_build2, complexity_level, selected_focus):\n",
        "    history_langchain_format = [\n",
        "        HumanMessage(content=pc_build1),\n",
        "        HumanMessage(content=pc_build2)\n",
        "    ]\n",
        "\n",
        "# Focus\n",
        "    if selected_focus == \"No focus\":\n",
        "        history_langchain_format.append(HumanMessage(content=\"Compare the two PC builds and tell me which one is the fastest and which one costs more\"))\n",
        "    elif selected_focus == \"CPU\":\n",
        "        history_langchain_format.append(HumanMessage(content=\"Compare the two PC builds and tell me which one is the fastest and which one costs more. Put a focus on the CPU's and write an extra dedicated paragraph about it. Compare the two CPU's to a third one. \"))\n",
        "    elif selected_focus == \"GPU\":\n",
        "        history_langchain_format.append(HumanMessage(content=\"Compare the two PC builds and tell me which one is the fastest and which one costs more. Put a focus on the GPU's and write an extra dedicated paragraph about it. Compare the two GPU's to a third one. \"))\n",
        "    elif selected_focus == \"Storage\":\n",
        "        history_langchain_format.append(HumanMessage(content=\"Compare the two PC builds and tell me which one is the fastest and which one costs more. Put a focus on the storage and write an extra dedicated paragraph about it. Compare the two storage devices to a third one. \"))\n",
        "\n",
        "# Compltexity level\n",
        "    if complexity_level == \"Easy\":\n",
        "        history_langchain_format.append(HumanMessage(content=\"Speak like you're explaining to a 5-year-old, with no knowledge of computers. \"))\n",
        "    elif complexity_level == \"Medium\":\n",
        "        history_langchain_format.append(HumanMessage(content=\"Speak like you're explaining to the average person. \"))\n",
        "    elif complexity_level == \"Hard\":\n",
        "        history_langchain_format.append(HumanMessage(content=\"Speak like you're explaining to someone with above-average knowledge of computers. They commonly use a computer. \"))\n",
        "    elif complexity_level == \"Complex\":\n",
        "        history_langchain_format.append(HumanMessage(content=\"Speak like you're explaining to a PC building expert. They know everything there is to know. \"))\n",
        "\n",
        "\n",
        "    gpt_response = llm(history_langchain_format)\n",
        "    return gpt_response.content\n",
        "\n",
        "# Inputs, including example\n",
        "demo = gr.Interface(\n",
        "    fn=PCbot,\n",
        "    inputs=[\n",
        "        gr.Textbox(\"CPU AMD Ryzen 9 7950X 4.5 GHz 16-Core Processor, GPU Asus TUF GAMING OC GeForce RTX 4090 24 GB, Storage Samsung 980 Pro 2 TB M.2-2280 PCIe 4.0 X4 NVME Solid State Drive\", label=\"Enter first PC build\"),\n",
        "        gr.Textbox(\"CPU Intel Core i5-13600K 3.5 GHz 14-Core Processor, GPU Asus ProArt OC GeForce RTX 4070 Ti 12 GB, Storage Western Digital Black SN850X 2 TB M.2-2280 PCIe 4.0 X4 NVME Solid State Drive\", label=\"Enter second PC build\"),\n",
        "        gr.Radio([\"Easy\", \"Medium\", \"Hard\", \"Complex\"], label=\"Complexity level of comparison\", info=\"\", value=\"Medium\"),\n",
        "        gr.Radio([\"No focus\", \"CPU\", \"GPU\", \"Storage\" ], label=\"Comparison focus\",info=\"\", default=\"No focus\"),\n",
        "    ],\n",
        "    outputs=gr.Textbox(label=\"Comparison\"),\n",
        "    live=True,\n",
        "    title=\"PCPartPicker Comparator\",\n",
        "    description=\"Enter two PC builds from PCPartPicker and select an explanation level and focus for the comparison. Example computer builds: https://pcpartpicker.com/list/qbD3ZJ vs https://pcpartpicker.com/list/3hXLPF. <br>Press the T on the lists to copy the plain text and paste them here.\"\n",
        "    )\n",
        "\n",
        "demo.launch(share=True)"
      ]
    },
    {
      "cell_type": "code",
      "execution_count": null,
      "metadata": {
        "id": "5Vzkj8eMs0Em"
      },
      "outputs": [],
      "source": []
    }
  ],
  "metadata": {
    "colab": {
      "provenance": []
    },
    "kernelspec": {
      "display_name": "Python 3",
      "name": "python3"
    },
    "language_info": {
      "name": "python"
    }
  },
  "nbformat": 4,
  "nbformat_minor": 0
}
